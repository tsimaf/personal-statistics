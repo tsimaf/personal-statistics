{
 "cells": [
  {
   "cell_type": "markdown",
   "id": "21a6bf4b",
   "metadata": {},
   "source": [
    "# Проект Анализ и визуализация личной статистики футболиста"
   ]
  },
  {
   "cell_type": "markdown",
   "id": "5ea8db4c",
   "metadata": {},
   "source": [
    "Проект находится в стадии сбора данных."
   ]
  },
  {
   "cell_type": "markdown",
   "id": "6e4598f8",
   "metadata": {},
   "source": [
    "## Задачи и описание проекта"
   ]
  },
  {
   "cell_type": "markdown",
   "id": "241f57e1",
   "metadata": {},
   "source": [
    "Задачи: собрать и структурировать данные по проведенным футбольным матчам футболиста Лукашевича Тимофея, провести предобработку данных с помощью библиотек Python, провести исследовательский анализ данных, найти закономерности и проверить статистические гипотезы. Подготовить интерактивный дашборд с помощью BI-системы Tableau.\n",
    "\n",
    "План проекта:\n",
    "1. Сбор данных.\n",
    "    - Собрать данные об официальных матчах футболиста с портала Transfermarkt <https://www.transfermarkt.world/timofey-lukashevich/leistungsdaten/spieler/498018>\n",
    "    - Собрать данные по товарищеским матчам и матчам второй лиги в составе ФК Макслайн\n",
    "    - Собрать данные по матчам в составе ФК Трактор\n",
    "    - Собрать данные по товарищеским матчам в составе ФК Луч и ФК Дняпро\n",
    "    - Собрать данные по матчам за дублирующий состав ФК Динамо Минск и товарищеские матчи\n",
    "    - Собрать данные по играм под эгидой АЛФ\n",
    "    - По возможности собрать данные по матчам на юношеских первенствах\n",
    "2. Предобработка данных.\n",
    "    - Привести данные в удобный для чтения вид, преобразовать колонки, а также данные в самих колонках\n",
    "    - Выделить новые столбцы из имеющихся\n",
    "3. Исследовательский анализ данных.\n",
    "    - Посмотреть на количество матчей по каждому из турниров, соотношение побед, забитых голов командой, соотношение проведенных матчей на натуральных и искусственных полях\n",
    "    - Лидеры по показателям (больше всего матчей против, \"любимый\" стадион, город и тд)\n",
    "4. Посмотреть на корреляцию показателей, найти закономерности.\n",
    "5. Проверить гипотезы. Действительно в домашних матчах больше побед, чем гостевых. Правда ли, что на искусственных полях забивается больше мячей, чем на натуральных. И другие гипотезы.\n",
    "6. Подготовить удобный интерактивный дашборд в Tableau с визуализациями показателей.\n",
    "7. Выводы и наблюдения."
   ]
  },
  {
   "cell_type": "markdown",
   "id": "3bdc8509",
   "metadata": {},
   "source": [
    "# Сбор данных"
   ]
  },
  {
   "cell_type": "markdown",
   "id": "fca944ca",
   "metadata": {},
   "source": [
    "Добавлены данные по официальным играм с сайта transfermarkt"
   ]
  },
  {
   "cell_type": "code",
   "execution_count": 1,
   "id": "c2a8d628",
   "metadata": {},
   "outputs": [],
   "source": [
    "import pandas as pd"
   ]
  },
  {
   "cell_type": "code",
   "execution_count": 2,
   "id": "1d6a1b32",
   "metadata": {},
   "outputs": [
    {
     "data": {
      "text/html": [
       "<div>\n",
       "<style scoped>\n",
       "    .dataframe tbody tr th:only-of-type {\n",
       "        vertical-align: middle;\n",
       "    }\n",
       "\n",
       "    .dataframe tbody tr th {\n",
       "        vertical-align: top;\n",
       "    }\n",
       "\n",
       "    .dataframe thead th {\n",
       "        text-align: right;\n",
       "    }\n",
       "</style>\n",
       "<table border=\"1\" class=\"dataframe\">\n",
       "  <thead>\n",
       "    <tr style=\"text-align: right;\">\n",
       "      <th></th>\n",
       "      <th>дата</th>\n",
       "      <th>моя команда</th>\n",
       "      <th>голы команды</th>\n",
       "      <th>голы против</th>\n",
       "      <th>соперник</th>\n",
       "      <th>место</th>\n",
       "      <th>дом гости</th>\n",
       "      <th>турнир</th>\n",
       "      <th>минуты</th>\n",
       "      <th>позиция</th>\n",
       "      <th>гол ассист</th>\n",
       "      <th>карточка</th>\n",
       "    </tr>\n",
       "  </thead>\n",
       "  <tbody>\n",
       "    <tr>\n",
       "      <th>0</th>\n",
       "      <td>2017-04-08</td>\n",
       "      <td>луч</td>\n",
       "      <td>3</td>\n",
       "      <td>1</td>\n",
       "      <td>локо гомель</td>\n",
       "      <td>сок</td>\n",
       "      <td>д</td>\n",
       "      <td>1 лига</td>\n",
       "      <td>24</td>\n",
       "      <td>цап</td>\n",
       "      <td>0</td>\n",
       "      <td>0</td>\n",
       "    </tr>\n",
       "    <tr>\n",
       "      <th>1</th>\n",
       "      <td>2017-04-15</td>\n",
       "      <td>луч</td>\n",
       "      <td>2</td>\n",
       "      <td>1</td>\n",
       "      <td>химик светлогорск</td>\n",
       "      <td>светлогорск нат</td>\n",
       "      <td>г</td>\n",
       "      <td>1</td>\n",
       "      <td>20</td>\n",
       "      <td>цап</td>\n",
       "      <td>0</td>\n",
       "      <td>0</td>\n",
       "    </tr>\n",
       "    <tr>\n",
       "      <th>2</th>\n",
       "      <td>2017-04-22</td>\n",
       "      <td>луч</td>\n",
       "      <td>6</td>\n",
       "      <td>1</td>\n",
       "      <td>волна пинск</td>\n",
       "      <td>сок</td>\n",
       "      <td>д</td>\n",
       "      <td>1</td>\n",
       "      <td>25</td>\n",
       "      <td>цап</td>\n",
       "      <td>0</td>\n",
       "      <td>0</td>\n",
       "    </tr>\n",
       "    <tr>\n",
       "      <th>3</th>\n",
       "      <td>2017-04-29</td>\n",
       "      <td>луч</td>\n",
       "      <td>0</td>\n",
       "      <td>0</td>\n",
       "      <td>звезда бгу</td>\n",
       "      <td>семашко</td>\n",
       "      <td>г</td>\n",
       "      <td>1</td>\n",
       "      <td>25</td>\n",
       "      <td>цап</td>\n",
       "      <td>0</td>\n",
       "      <td>0</td>\n",
       "    </tr>\n",
       "    <tr>\n",
       "      <th>4</th>\n",
       "      <td>2017-05-06</td>\n",
       "      <td>луч</td>\n",
       "      <td>6</td>\n",
       "      <td>1</td>\n",
       "      <td>барановичи</td>\n",
       "      <td>сок</td>\n",
       "      <td>д</td>\n",
       "      <td>1</td>\n",
       "      <td>90</td>\n",
       "      <td>цап</td>\n",
       "      <td>1г</td>\n",
       "      <td>0</td>\n",
       "    </tr>\n",
       "    <tr>\n",
       "      <th>...</th>\n",
       "      <td>...</td>\n",
       "      <td>...</td>\n",
       "      <td>...</td>\n",
       "      <td>...</td>\n",
       "      <td>...</td>\n",
       "      <td>...</td>\n",
       "      <td>...</td>\n",
       "      <td>...</td>\n",
       "      <td>...</td>\n",
       "      <td>...</td>\n",
       "      <td>...</td>\n",
       "      <td>...</td>\n",
       "    </tr>\n",
       "    <tr>\n",
       "      <th>89</th>\n",
       "      <td>2021-05-22</td>\n",
       "      <td>макслайн</td>\n",
       "      <td>3</td>\n",
       "      <td>1</td>\n",
       "      <td>химик светлогорск</td>\n",
       "      <td>светлогорск нат</td>\n",
       "      <td>г</td>\n",
       "      <td>кубок рб</td>\n",
       "      <td>90</td>\n",
       "      <td>цоп</td>\n",
       "      <td>0</td>\n",
       "      <td>0</td>\n",
       "    </tr>\n",
       "    <tr>\n",
       "      <th>90</th>\n",
       "      <td>2021-05-29</td>\n",
       "      <td>макслайн</td>\n",
       "      <td>2</td>\n",
       "      <td>4</td>\n",
       "      <td>волна пинск</td>\n",
       "      <td>рога нат</td>\n",
       "      <td>д</td>\n",
       "      <td>кубок рб</td>\n",
       "      <td>71</td>\n",
       "      <td>цоп</td>\n",
       "      <td>0</td>\n",
       "      <td>0</td>\n",
       "    </tr>\n",
       "    <tr>\n",
       "      <th>91</th>\n",
       "      <td>2022-05-29</td>\n",
       "      <td>макслайн</td>\n",
       "      <td>9</td>\n",
       "      <td>0</td>\n",
       "      <td>полоцк</td>\n",
       "      <td>полоцк нат</td>\n",
       "      <td>г</td>\n",
       "      <td>кубок рб</td>\n",
       "      <td>90</td>\n",
       "      <td>цз</td>\n",
       "      <td>0</td>\n",
       "      <td>0</td>\n",
       "    </tr>\n",
       "    <tr>\n",
       "      <th>92</th>\n",
       "      <td>2022-05-21</td>\n",
       "      <td>макслайн</td>\n",
       "      <td>2</td>\n",
       "      <td>3</td>\n",
       "      <td>витебск</td>\n",
       "      <td>рога нат</td>\n",
       "      <td>д</td>\n",
       "      <td>кубок рб</td>\n",
       "      <td>120</td>\n",
       "      <td>цз</td>\n",
       "      <td>0</td>\n",
       "      <td>ж</td>\n",
       "    </tr>\n",
       "    <tr>\n",
       "      <th>93</th>\n",
       "      <td>2022-11-16</td>\n",
       "      <td>макслайн</td>\n",
       "      <td>2</td>\n",
       "      <td>3</td>\n",
       "      <td>арсенал дзержинск</td>\n",
       "      <td>городея нат</td>\n",
       "      <td>г</td>\n",
       "      <td>1</td>\n",
       "      <td>1</td>\n",
       "      <td>цоп</td>\n",
       "      <td>0</td>\n",
       "      <td>0</td>\n",
       "    </tr>\n",
       "  </tbody>\n",
       "</table>\n",
       "<p>94 rows × 12 columns</p>\n",
       "</div>"
      ],
      "text/plain": [
       "         дата моя команда  голы команды  голы против           соперник  \\\n",
       "0  2017-04-08         луч             3            1        локо гомель   \n",
       "1  2017-04-15         луч             2            1  химик светлогорск   \n",
       "2  2017-04-22         луч             6            1        волна пинск   \n",
       "3  2017-04-29         луч             0            0         звезда бгу   \n",
       "4  2017-05-06         луч             6            1         барановичи   \n",
       "..        ...         ...           ...          ...                ...   \n",
       "89 2021-05-22    макслайн             3            1  химик светлогорск   \n",
       "90 2021-05-29    макслайн             2            4        волна пинск   \n",
       "91 2022-05-29    макслайн             9            0             полоцк   \n",
       "92 2022-05-21    макслайн             2            3            витебск   \n",
       "93 2022-11-16    макслайн             2            3  арсенал дзержинск   \n",
       "\n",
       "              место дом гости    турнир  минуты позиция гол ассист карточка  \n",
       "0               сок         д    1 лига      24     цап          0        0  \n",
       "1   светлогорск нат         г         1      20     цап          0        0  \n",
       "2               сок         д         1      25     цап          0        0  \n",
       "3           семашко         г         1      25     цап          0        0  \n",
       "4               сок         д         1      90     цап         1г        0  \n",
       "..              ...       ...       ...     ...     ...        ...      ...  \n",
       "89  светлогорск нат         г  кубок рб      90     цоп          0        0  \n",
       "90         рога нат         д  кубок рб      71     цоп          0        0  \n",
       "91       полоцк нат         г  кубок рб      90      цз          0        0  \n",
       "92         рога нат         д  кубок рб     120      цз          0        ж  \n",
       "93      городея нат         г         1       1     цоп          0        0  \n",
       "\n",
       "[94 rows x 12 columns]"
      ]
     },
     "execution_count": 2,
     "metadata": {},
     "output_type": "execute_result"
    }
   ],
   "source": [
    "df = pd.read_excel('D:\\\\0Yandeks Study\\\\pet-project\\\\stat_lukashevich.xlsx', sheet_name='list')\n",
    "df"
   ]
  },
  {
   "cell_type": "code",
   "execution_count": 3,
   "id": "a90413ad",
   "metadata": {},
   "outputs": [
    {
     "name": "stdout",
     "output_type": "stream",
     "text": [
      "<class 'pandas.core.frame.DataFrame'>\n",
      "RangeIndex: 94 entries, 0 to 93\n",
      "Data columns (total 12 columns):\n",
      " #   Column        Non-Null Count  Dtype         \n",
      "---  ------        --------------  -----         \n",
      " 0   дата          94 non-null     datetime64[ns]\n",
      " 1   моя команда   94 non-null     object        \n",
      " 2   голы команды  94 non-null     int64         \n",
      " 3   голы против   94 non-null     int64         \n",
      " 4   соперник      94 non-null     object        \n",
      " 5   место         94 non-null     object        \n",
      " 6   дом гости     94 non-null     object        \n",
      " 7   турнир        94 non-null     object        \n",
      " 8   минуты        94 non-null     int64         \n",
      " 9   позиция       94 non-null     object        \n",
      " 10  гол ассист    94 non-null     object        \n",
      " 11  карточка      94 non-null     object        \n",
      "dtypes: datetime64[ns](1), int64(3), object(8)\n",
      "memory usage: 8.9+ KB\n"
     ]
    }
   ],
   "source": [
    "df.info()"
   ]
  },
  {
   "cell_type": "code",
   "execution_count": 4,
   "id": "88f26972",
   "metadata": {},
   "outputs": [
    {
     "data": {
      "text/plain": [
       "count    60.000000\n",
       "mean      2.233333\n",
       "std       1.759879\n",
       "min       0.000000\n",
       "25%       1.000000\n",
       "50%       2.000000\n",
       "75%       3.000000\n",
       "max       9.000000\n",
       "Name: голы команды, dtype: float64"
      ]
     },
     "execution_count": 4,
     "metadata": {},
     "output_type": "execute_result"
    }
   ],
   "source": [
    "df.query('турнир==1')['голы команды'].describe()"
   ]
  },
  {
   "cell_type": "code",
   "execution_count": 5,
   "id": "7f5aeb06",
   "metadata": {},
   "outputs": [
    {
     "data": {
      "text/plain": [
       "count    60.00000\n",
       "mean      1.05000\n",
       "std       1.14129\n",
       "min       0.00000\n",
       "25%       0.00000\n",
       "50%       1.00000\n",
       "75%       2.00000\n",
       "max       4.00000\n",
       "Name: голы против, dtype: float64"
      ]
     },
     "execution_count": 5,
     "metadata": {},
     "output_type": "execute_result"
    }
   ],
   "source": [
    "df.query('турнир==1')['голы против'].describe()"
   ]
  },
  {
   "cell_type": "code",
   "execution_count": 6,
   "id": "1e390ac3",
   "metadata": {},
   "outputs": [
    {
     "data": {
      "text/plain": [
       "гол ассист\n",
       "0      86\n",
       "1г      4\n",
       "1а      2\n",
       "1аг     1\n",
       "2г      1\n",
       "Name: count, dtype: int64"
      ]
     },
     "execution_count": 6,
     "metadata": {},
     "output_type": "execute_result"
    }
   ],
   "source": [
    "df['гол ассист'].value_counts()"
   ]
  },
  {
   "cell_type": "code",
   "execution_count": 7,
   "id": "19eaa52d",
   "metadata": {},
   "outputs": [
    {
     "data": {
      "text/plain": [
       "count    94.000000\n",
       "mean      1.308511\n",
       "std       1.383673\n",
       "min       0.000000\n",
       "25%       0.000000\n",
       "50%       1.000000\n",
       "75%       2.000000\n",
       "max       7.000000\n",
       "Name: голы против, dtype: float64"
      ]
     },
     "execution_count": 7,
     "metadata": {},
     "output_type": "execute_result"
    }
   ],
   "source": [
    "df['голы против'].describe()"
   ]
  },
  {
   "cell_type": "code",
   "execution_count": 8,
   "id": "7f6f0af9",
   "metadata": {},
   "outputs": [
    {
     "data": {
      "text/plain": [
       "позиция\n",
       "цоп    51\n",
       "пцз    18\n",
       "цз     14\n",
       "цап    10\n",
       "пп      1\n",
       "Name: count, dtype: int64"
      ]
     },
     "execution_count": 8,
     "metadata": {},
     "output_type": "execute_result"
    }
   ],
   "source": [
    "df['позиция'].value_counts()"
   ]
  },
  {
   "cell_type": "code",
   "execution_count": null,
   "id": "6b7039d3",
   "metadata": {},
   "outputs": [],
   "source": []
  }
 ],
 "metadata": {
  "kernelspec": {
   "display_name": "Python 3 (ipykernel)",
   "language": "python",
   "name": "python3"
  },
  "language_info": {
   "codemirror_mode": {
    "name": "ipython",
    "version": 3
   },
   "file_extension": ".py",
   "mimetype": "text/x-python",
   "name": "python",
   "nbconvert_exporter": "python",
   "pygments_lexer": "ipython3",
   "version": "3.11.5"
  },
  "toc": {
   "base_numbering": 1,
   "nav_menu": {},
   "number_sections": true,
   "sideBar": true,
   "skip_h1_title": true,
   "title_cell": "Table of Contents",
   "title_sidebar": "Contents",
   "toc_cell": false,
   "toc_position": {
    "height": "calc(100% - 180px)",
    "left": "10px",
    "top": "150px",
    "width": "384px"
   },
   "toc_section_display": true,
   "toc_window_display": true
  }
 },
 "nbformat": 4,
 "nbformat_minor": 5
}
