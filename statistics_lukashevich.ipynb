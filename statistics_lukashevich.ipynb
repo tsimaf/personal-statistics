{
 "cells": [
  {
   "cell_type": "markdown",
   "id": "21a6bf4b",
   "metadata": {},
   "source": [
    "# Проект Анализ и визуализация личной статистики футболиста"
   ]
  },
  {
   "cell_type": "markdown",
   "id": "5ea8db4c",
   "metadata": {},
   "source": [
    "- Все данные собраны и внесены в базу. (07.09.2024)\n",
    "- Проект находится в стадии подготовки данных. (08.09.2024)\n",
    "- Проект находится на этапе исследовательского анализа. (24.09.2024)"
   ]
  },
  {
   "cell_type": "markdown",
   "id": "241f57e1",
   "metadata": {},
   "source": [
    "## Задачи и план проекта\n",
    "- Собрать и структурировать данные по проведенным футбольным матчам футболиста Лукашевича Тимофея.\n",
    "- Провести предобработку данных с помощью библиотек Python.\n",
    "- Провести исследовательский анализ данных, найти закономерности и проверить статистические гипотезы.\n",
    "- Подготовить интерактивный дашборд с помощью BI-системы Tableau.\n",
    "\n",
    "**План проекта**\n",
    "\n",
    "1. **Сбор данных.**\n",
    "    - Собрать данные об официальных матчах футболиста с портала Transfermarkt: [Transfermarkt - Тимофей Лукашевич](https://www.transfermarkt.world/timofey-lukashevich/leistungsdaten/spieler/498018).\n",
    "    - Собрать данные по товарищеским матчам и матчам второй лиги в составе ФК Макслайн.\n",
    "    - Собрать данные по матчам в составе ФК Трактор.\n",
    "    - Собрать данные по товарищеским матчам в составе ФК Луч и ФК Дняпро.\n",
    "    - Собрать данные по матчам за дублирующий состав ФК Динамо Минск и товарищеским матчам.\n",
    "\n",
    "2. **Предобработка данных.**\n",
    "    - Привести данные в удобный для чтения вид: преобразовать колонки и данные в самих колонках.\n",
    "    - Выделить новые столбцы из имеющихся.\n",
    "\n",
    "3. **Исследовательский анализ данных.**\n",
    "    - Проанализировать количество матчей по каждому из турниров, соотношение побед, забитых голов командой и соотношение проведенных матчей на натуральных и искусственных полях.\n",
    "    - Определить лидеров по показателям (больше всего матчей против, 'любимый' стадион, город и т.д.).\n",
    "\n",
    "4. **Корреляционный анализ.**\n",
    "    - Исследовать корреляцию показателей и найти закономерности.\n",
    "\n",
    "5. **Проверка гипотез.**\n",
    "    - Проверить гипотезы: действительно ли в домашних матчах больше побед, чем в гостевых? Правда ли, что на искусственных полях забивается больше мячей, чем на натуральных? И другие гипотезы.\n",
    "\n",
    "6. **Создание дашборда.**\n",
    "    - Подготовить удобный интерактивный дашборд в Tableau с визуализациями показателей.\n",
    "\n",
    "7. **Выводы и наблюдения.**\n",
    "    - Сформулировать выводы и наблюдения на основе проведенного анализа."
   ]
  },
  {
   "cell_type": "markdown",
   "id": "3bdc8509",
   "metadata": {},
   "source": [
    "## Сбор данных"
   ]
  },
  {
   "cell_type": "markdown",
   "id": "fca944ca",
   "metadata": {},
   "source": [
    "- Добавлены данные по официальным играм с сайта Transfermarkt (07.07.2024).\n",
    "- Добавлены данные с информацией о товарищеских и официальных играх из открытых официальных источников футбольных команд и занесены вручную в таблицу (05.08.2024):\n",
    "  - 'Луч' (группа ВК и Instagram)\n",
    "  - 'Макслайн' (группа ВК)\n",
    "  - 'Дняпро' (группа ВК)\n",
    "  - 'Трактор' (группа ВК)\n",
    "- Получены протоколы официальных матчей в составе футбольного клуба 'Динамо-Минск' и занесены в таблицу вручную (07.09.2024)."
   ]
  },
  {
   "cell_type": "markdown",
   "id": "7a9fa61f-ec87-46cf-b4b2-0508387a023b",
   "metadata": {},
   "source": [
    "## Загрузка данных\n",
    "\n",
    "Импорт необходимых для работы библиотек:"
   ]
  },
  {
   "cell_type": "code",
   "execution_count": 1,
   "id": "c2a8d628",
   "metadata": {},
   "outputs": [],
   "source": [
    "import pandas as pd"
   ]
  },
  {
   "cell_type": "markdown",
   "id": "5ef5e449-1a1c-497e-91c2-204b6b98ed11",
   "metadata": {},
   "source": [
    "Загрузка данных. Данные хранятся на локальном устройстве в виде документа Excel."
   ]
  },
  {
   "cell_type": "code",
   "execution_count": 2,
   "id": "1d6a1b32",
   "metadata": {},
   "outputs": [
    {
     "data": {
      "text/html": [
       "<div>\n",
       "<style scoped>\n",
       "    .dataframe tbody tr th:only-of-type {\n",
       "        vertical-align: middle;\n",
       "    }\n",
       "\n",
       "    .dataframe tbody tr th {\n",
       "        vertical-align: top;\n",
       "    }\n",
       "\n",
       "    .dataframe thead th {\n",
       "        text-align: right;\n",
       "    }\n",
       "</style>\n",
       "<table border=\"1\" class=\"dataframe\">\n",
       "  <thead>\n",
       "    <tr style=\"text-align: right;\">\n",
       "      <th></th>\n",
       "      <th>дата</th>\n",
       "      <th>моя команда</th>\n",
       "      <th>голы команды</th>\n",
       "      <th>голы против</th>\n",
       "      <th>соперник</th>\n",
       "      <th>место</th>\n",
       "      <th>исскуственное/натуральное</th>\n",
       "      <th>дом гости</th>\n",
       "      <th>турнир</th>\n",
       "      <th>минуты</th>\n",
       "      <th>позиция</th>\n",
       "      <th>гол ассист</th>\n",
       "      <th>карточка</th>\n",
       "    </tr>\n",
       "  </thead>\n",
       "  <tbody>\n",
       "    <tr>\n",
       "      <th>0</th>\n",
       "      <td>2015-07-11</td>\n",
       "      <td>Динамо Дубль</td>\n",
       "      <td>1</td>\n",
       "      <td>1</td>\n",
       "      <td>неман дубль</td>\n",
       "      <td>стайки</td>\n",
       "      <td>нат</td>\n",
       "      <td>д</td>\n",
       "      <td>дуб</td>\n",
       "      <td>30</td>\n",
       "      <td>п</td>\n",
       "      <td>0</td>\n",
       "      <td>0</td>\n",
       "    </tr>\n",
       "    <tr>\n",
       "      <th>1</th>\n",
       "      <td>2015-08-22</td>\n",
       "      <td>Динамо Дубль</td>\n",
       "      <td>3</td>\n",
       "      <td>3</td>\n",
       "      <td>жодино дубль</td>\n",
       "      <td>жодино исск</td>\n",
       "      <td>исск</td>\n",
       "      <td>г</td>\n",
       "      <td>дуб</td>\n",
       "      <td>15</td>\n",
       "      <td>п</td>\n",
       "      <td>0</td>\n",
       "      <td>0</td>\n",
       "    </tr>\n",
       "    <tr>\n",
       "      <th>2</th>\n",
       "      <td>2015-08-29</td>\n",
       "      <td>Динамо Дубль</td>\n",
       "      <td>0</td>\n",
       "      <td>3</td>\n",
       "      <td>минск дубль</td>\n",
       "      <td>стайки</td>\n",
       "      <td>нат</td>\n",
       "      <td>д</td>\n",
       "      <td>дуб</td>\n",
       "      <td>70</td>\n",
       "      <td>п</td>\n",
       "      <td>0</td>\n",
       "      <td>0</td>\n",
       "    </tr>\n",
       "    <tr>\n",
       "      <th>3</th>\n",
       "      <td>2015-09-11</td>\n",
       "      <td>Динамо Дубль</td>\n",
       "      <td>1</td>\n",
       "      <td>4</td>\n",
       "      <td>гранит дубль</td>\n",
       "      <td>лунинец</td>\n",
       "      <td>исск</td>\n",
       "      <td>г</td>\n",
       "      <td>дуб</td>\n",
       "      <td>30</td>\n",
       "      <td>п</td>\n",
       "      <td>0</td>\n",
       "      <td>0</td>\n",
       "    </tr>\n",
       "    <tr>\n",
       "      <th>4</th>\n",
       "      <td>2016-02-12</td>\n",
       "      <td>Динамо Дубль</td>\n",
       "      <td>2</td>\n",
       "      <td>1</td>\n",
       "      <td>сморгонь</td>\n",
       "      <td>сморгонь исск</td>\n",
       "      <td>исск</td>\n",
       "      <td>г</td>\n",
       "      <td>тов</td>\n",
       "      <td>75</td>\n",
       "      <td>п</td>\n",
       "      <td>0</td>\n",
       "      <td>0</td>\n",
       "    </tr>\n",
       "  </tbody>\n",
       "</table>\n",
       "</div>"
      ],
      "text/plain": [
       "        дата   моя команда  голы команды  голы против      соперник  \\\n",
       "0 2015-07-11  Динамо Дубль             1            1   неман дубль   \n",
       "1 2015-08-22  Динамо Дубль             3            3  жодино дубль   \n",
       "2 2015-08-29  Динамо Дубль             0            3   минск дубль   \n",
       "3 2015-09-11  Динамо Дубль             1            4  гранит дубль   \n",
       "4 2016-02-12  Динамо Дубль             2            1      сморгонь   \n",
       "\n",
       "           место исскуственное/натуральное дом гости турнир  минуты позиция  \\\n",
       "0         стайки                       нат         д    дуб      30       п   \n",
       "1    жодино исск                      исск         г    дуб      15       п   \n",
       "2         стайки                       нат         д    дуб      70       п   \n",
       "3        лунинец                      исск         г    дуб      30       п   \n",
       "4  сморгонь исск                      исск         г    тов      75       п   \n",
       "\n",
       "  гол ассист карточка  \n",
       "0          0        0  \n",
       "1          0        0  \n",
       "2          0        0  \n",
       "3          0        0  \n",
       "4          0        0  "
      ]
     },
     "metadata": {},
     "output_type": "display_data"
    },
    {
     "name": "stdout",
     "output_type": "stream",
     "text": [
      "<class 'pandas.core.frame.DataFrame'>\n",
      "RangeIndex: 231 entries, 0 to 230\n",
      "Data columns (total 13 columns):\n",
      " #   Column                     Non-Null Count  Dtype         \n",
      "---  ------                     --------------  -----         \n",
      " 0   дата                       231 non-null    datetime64[ns]\n",
      " 1   моя команда                231 non-null    object        \n",
      " 2   голы команды               231 non-null    int64         \n",
      " 3   голы против                231 non-null    int64         \n",
      " 4   соперник                   231 non-null    object        \n",
      " 5   место                      231 non-null    object        \n",
      " 6   исскуственное/натуральное  231 non-null    object        \n",
      " 7   дом гости                  231 non-null    object        \n",
      " 8   турнир                     231 non-null    object        \n",
      " 9   минуты                     231 non-null    int64         \n",
      " 10  позиция                    231 non-null    object        \n",
      " 11  гол ассист                 231 non-null    object        \n",
      " 12  карточка                   231 non-null    object        \n",
      "dtypes: datetime64[ns](1), int64(3), object(9)\n",
      "memory usage: 23.6+ KB\n"
     ]
    }
   ],
   "source": [
    "path = 'D:\\\\da_projects\\\\pet-project\\\\'\n",
    "df = pd.read_excel(path+ 'lukashevich_stat.xlsx', sheet_name='list')\n",
    "display(df.head())\n",
    "df.info()"
   ]
  },
  {
   "cell_type": "markdown",
   "id": "6843b442-0c39-4d43-9420-c00f7e6eca03",
   "metadata": {},
   "source": [
    "\n",
    "- Размер датафрейма: 13 колонок и 231 строка.\n",
    "- Преобразование типов: \n",
    "  - Исходя из того, что данных немного, значения в колонках не будут преобразовываться в булев или категориальный тип, где это возможно.\n",
    "  - Приоритет выбран в пользу лучшей читаемости таблицы.\n",
    "\n",
    "## Предобработка данных\n",
    "\n",
    "### Названия колонок\n",
    "\n",
    "Заменим названия колонок в соответствии с правилами Snake Case на латинице:"
   ]
  },
  {
   "cell_type": "code",
   "execution_count": 3,
   "id": "d094a28a-7c88-404f-b44f-7223f64d9aad",
   "metadata": {},
   "outputs": [
    {
     "data": {
      "text/plain": [
       "Index(['дата', 'моя команда', 'голы команды', 'голы против', 'соперник',\n",
       "       'место', 'исскуственное/натуральное', 'дом гости', 'турнир', 'минуты',\n",
       "       'позиция', 'гол ассист', 'карточка'],\n",
       "      dtype='object')"
      ]
     },
     "execution_count": 3,
     "metadata": {},
     "output_type": "execute_result"
    }
   ],
   "source": [
    "df.columns"
   ]
  },
  {
   "cell_type": "code",
   "execution_count": 4,
   "id": "7849653a-77e3-417a-aa72-f5af27338b4a",
   "metadata": {},
   "outputs": [
    {
     "data": {
      "text/plain": [
       "Index(['date', 'my_team', 'team_goals', 'opponent_goals', 'opponent',\n",
       "       'stadium', 'surface_type', 'home_away', 'tournament', 'minutes_played',\n",
       "       'position', 'goal_assist', 'card'],\n",
       "      dtype='object')"
      ]
     },
     "execution_count": 4,
     "metadata": {},
     "output_type": "execute_result"
    }
   ],
   "source": [
    "df.columns = [\n",
    "    'date', 'my_team', 'team_goals', 'opponent_goals', 'opponent', 'stadium', 'surface_type', 'home_away',\n",
    "    'tournament', 'minutes_played', 'position', 'goal_assist', 'card'\n",
    "]\n",
    "df.columns"
   ]
  },
  {
   "cell_type": "markdown",
   "id": "0da91107-d734-471f-bc20-83a745453c31",
   "metadata": {},
   "source": [
    "### Дубликаты и пропущенные значения\n",
    "\n",
    "Проверим наличие дубликатов и пропущенных значений. Их быть не должно, но стоит убедиться."
   ]
  },
  {
   "cell_type": "code",
   "execution_count": 5,
   "id": "39482571-5dda-4a80-84e4-cb765005c8f0",
   "metadata": {},
   "outputs": [
    {
     "name": "stdout",
     "output_type": "stream",
     "text": [
      "Дубликаты:\n",
      " 0\n",
      "Пропущенные значения:\n",
      " date              0\n",
      "my_team           0\n",
      "team_goals        0\n",
      "opponent_goals    0\n",
      "opponent          0\n",
      "stadium           0\n",
      "surface_type      0\n",
      "home_away         0\n",
      "tournament        0\n",
      "minutes_played    0\n",
      "position          0\n",
      "goal_assist       0\n",
      "card              0\n",
      "dtype: int64\n"
     ]
    }
   ],
   "source": [
    "print(\n",
    "    f'Дубликаты:\\n {df.duplicated().sum()}\\n'\n",
    "    f'Пропущенные значения:\\n {df.isna().sum()}'\n",
    ")"
   ]
  },
  {
   "cell_type": "markdown",
   "id": "7246e4c2-6b4d-4d0d-a231-63083b0be54b",
   "metadata": {},
   "source": [
    "### Замена значений в колонках и поиск дубликатов значений\n",
    "\n",
    "**Тип покрытия**\n",
    "- natural - травяной газон\n",
    "- artificial - искусственное покрытие"
   ]
  },
  {
   "cell_type": "code",
   "execution_count": 6,
   "id": "5dff9a69-5a05-45d2-8ef7-36bba93a7541",
   "metadata": {},
   "outputs": [
    {
     "data": {
      "text/plain": [
       "array(['нат', 'исск'], dtype=object)"
      ]
     },
     "execution_count": 6,
     "metadata": {},
     "output_type": "execute_result"
    }
   ],
   "source": [
    "df['surface_type'].unique()"
   ]
  },
  {
   "cell_type": "code",
   "execution_count": 7,
   "id": "6857bdf7-0649-40bd-a045-8f8d8583ff6a",
   "metadata": {},
   "outputs": [
    {
     "data": {
      "text/plain": [
       "array(['natural', 'artificial'], dtype=object)"
      ]
     },
     "execution_count": 7,
     "metadata": {},
     "output_type": "execute_result"
    }
   ],
   "source": [
    "df['surface_type'] = df['surface_type'].apply(lambda x: 'natural' if x == 'нат' else 'artificial')\n",
    "df['surface_type'].unique()"
   ]
  },
  {
   "cell_type": "markdown",
   "id": "44cc14da-67aa-4c44-a911-57dc236eb616",
   "metadata": {},
   "source": [
    "**Домашняя/Гостевая игра**\n",
    "- home - домашняя\n",
    "- away - гостевая\n",
    "- neutral - нейтральное поле"
   ]
  },
  {
   "cell_type": "code",
   "execution_count": 8,
   "id": "1510b755-a5e6-4960-86c4-f298d175c5e3",
   "metadata": {},
   "outputs": [
    {
     "data": {
      "text/plain": [
       "array(['д', 'г', 'н'], dtype=object)"
      ]
     },
     "execution_count": 8,
     "metadata": {},
     "output_type": "execute_result"
    }
   ],
   "source": [
    "df['home_away'].unique()"
   ]
  },
  {
   "cell_type": "code",
   "execution_count": 9,
   "id": "4c8bd110-2b35-4d66-b420-e1241b494a7e",
   "metadata": {},
   "outputs": [
    {
     "data": {
      "text/plain": [
       "array(['home', 'away', 'neutral'], dtype=object)"
      ]
     },
     "execution_count": 9,
     "metadata": {},
     "output_type": "execute_result"
    }
   ],
   "source": [
    "df['home_away'] = df['home_away'].replace({'д': 'home', 'г': 'away', 'н': 'neutral'})\n",
    "df['home_away'].unique()"
   ]
  },
  {
   "cell_type": "markdown",
   "id": "1e3d4a2b-66cc-45c4-8389-ed397f005ac6",
   "metadata": {},
   "source": [
    "**Турнир**\n",
    "- reserve -  Reserve League, Чемпионат среди дублеров РБ\n",
    "- friendly - Friendly Match, товарищеская игра\n",
    "- premier -  Premier League, Высшая Лига ЧБ\n",
    "- first - First League, Первая Лига ЧБ\n",
    "- second - Second League, Вторая Лига ЧБ\n",
    "- cup - Cup of Belarus, Кубок РБ"
   ]
  },
  {
   "cell_type": "code",
   "execution_count": 10,
   "id": "d05fc8ce-879e-4441-ada8-97e602d87add",
   "metadata": {},
   "outputs": [
    {
     "data": {
      "text/plain": [
       "array(['дуб', 'тов', 1, 'кубок рб', 'высшая', 'д', 2], dtype=object)"
      ]
     },
     "execution_count": 10,
     "metadata": {},
     "output_type": "execute_result"
    }
   ],
   "source": [
    "df['tournament'].unique()"
   ]
  },
  {
   "cell_type": "code",
   "execution_count": 11,
   "id": "b44cba13-6aa3-4557-86cf-b80e4bb6b058",
   "metadata": {},
   "outputs": [
    {
     "data": {
      "text/plain": [
       "array(['reserve', 'friendly', 'first', 'cup', 'premier', 'second'],\n",
       "      dtype=object)"
      ]
     },
     "execution_count": 11,
     "metadata": {},
     "output_type": "execute_result"
    }
   ],
   "source": [
    "df['tournament'] = df['tournament'].replace(\n",
    "    {'дуб': 'reserve', 'тов': 'friendly', 1: 'first',\n",
    "     'кубок рб':'cup', 'высшая':'premier', 'д':'reserve', 2:'second'}\n",
    ")\n",
    "df['tournament'].unique()"
   ]
  },
  {
   "cell_type": "markdown",
   "id": "2e44f36e-6ac1-4aed-834b-608df5841b1e",
   "metadata": {},
   "source": [
    "**Позиция на поле**\n",
    "- CM - центральный полузащитник (при 4-4-2 или 3-4-3)\n",
    "- RCB - правый центральный защитник (в тройке центральных)\n",
    "- CB - центральный защитник (при двух центральных)\n",
    "- DM - опорный полузащитник (при 4-1-4-1 и подобных)\n",
    "- CAM - центральный атакующий полузащитник (инсайд)\n",
    "- RM - правый полузащитник\n",
    "- RB - правый защитник"
   ]
  },
  {
   "cell_type": "code",
   "execution_count": 12,
   "id": "d51cfd2b-0eb2-46fc-8a58-ba598b685144",
   "metadata": {},
   "outputs": [
    {
     "data": {
      "text/plain": [
       "array(['п', 'пцз', 'цз', 'цоп', 'цап', 'пп', 'пз'], dtype=object)"
      ]
     },
     "execution_count": 12,
     "metadata": {},
     "output_type": "execute_result"
    }
   ],
   "source": [
    "df['position'].unique()"
   ]
  },
  {
   "cell_type": "code",
   "execution_count": 13,
   "id": "25c76ba1-0b87-4558-8fe4-5299e7612495",
   "metadata": {},
   "outputs": [
    {
     "data": {
      "text/plain": [
       "array(['CM', 'RCB', 'CB', 'DM', 'CAM', 'RM', 'RB'], dtype=object)"
      ]
     },
     "execution_count": 13,
     "metadata": {},
     "output_type": "execute_result"
    }
   ],
   "source": [
    "df['position'] = df['position'].replace(\n",
    "    {'цоп':'DM', 'п':'CM', 'цз':'CB', 'пцз':'RCB', 'цап':'CAM', 'пз':'RB', 'пп':'RM'}\n",
    ")\n",
    "df['position'].unique()"
   ]
  },
  {
   "cell_type": "markdown",
   "id": "def7c45a-1435-4e4a-9ed7-29507fe2b2f3",
   "metadata": {},
   "source": [
    "**Голы/Передачи**\n",
    "- G - гол\n",
    "- A - голевая передача\n",
    "- OG - автогол"
   ]
  },
  {
   "cell_type": "code",
   "execution_count": 14,
   "id": "ec38e90f-c398-4d92-9a36-77f6e69355c8",
   "metadata": {},
   "outputs": [
    {
     "data": {
      "text/plain": [
       "array([0, '1г', '1гп', '2г', '1а', '1+1', '1аг'], dtype=object)"
      ]
     },
     "execution_count": 14,
     "metadata": {},
     "output_type": "execute_result"
    }
   ],
   "source": [
    "df['goal_assist'].unique()"
   ]
  },
  {
   "cell_type": "code",
   "execution_count": 15,
   "id": "956ea7ee-d4ef-4a68-8f48-341b25d5f9b0",
   "metadata": {},
   "outputs": [
    {
     "data": {
      "text/plain": [
       "array([0, 'G', 'A', '2G', 'G+A', 'OG'], dtype=object)"
      ]
     },
     "execution_count": 15,
     "metadata": {},
     "output_type": "execute_result"
    }
   ],
   "source": [
    "df['goal_assist'] = df['goal_assist'].replace(\n",
    "    {'1г':'G', '1а':'A', '1гп':'A', '2г':'2G', '1+1':'G+A', '1аг':'OG'}\n",
    ")\n",
    "df['goal_assist'].unique()"
   ]
  },
  {
   "cell_type": "markdown",
   "id": "18fcfd59-09fd-4f2a-bf71-6e8020735683",
   "metadata": {},
   "source": [
    "**Карточки**\n",
    "- YC - желтая карточка\n",
    "- 2YC - вторая желтая карточка (и удаление соответственно)\n",
    "- RC - прямая красная карточка"
   ]
  },
  {
   "cell_type": "code",
   "execution_count": 16,
   "id": "e40c8893-b7b8-450d-a7c9-5445b60c18b1",
   "metadata": {},
   "outputs": [
    {
     "data": {
      "text/plain": [
       "array([0, 'жк', 'ж', '2жк'], dtype=object)"
      ]
     },
     "execution_count": 16,
     "metadata": {},
     "output_type": "execute_result"
    }
   ],
   "source": [
    "df['card'].unique()"
   ]
  },
  {
   "cell_type": "code",
   "execution_count": 17,
   "id": "d936d256-7c7a-4fe9-ac08-6ec735f239c2",
   "metadata": {},
   "outputs": [
    {
     "data": {
      "text/plain": [
       "array([0, 'YC', '2YC'], dtype=object)"
      ]
     },
     "execution_count": 17,
     "metadata": {},
     "output_type": "execute_result"
    }
   ],
   "source": [
    "df['card'] = df['card'].replace({'ж':'YC', 'жк':'YC', '2жк':'2YC'})\n",
    "df['card'].unique()"
   ]
  },
  {
   "cell_type": "markdown",
   "id": "d86fed3f-57c9-4b2a-a777-d466dfd5f0c9",
   "metadata": {},
   "source": [
    "**Названия команд**\n",
    "\n",
    "Переименуем названия команд. Для каждой команды город будет указан последним словом, а страна будет в скобках (в случае, если команда не из Беларуси). Приписка в скобках (res) в конце строки будет означать, что команда является дублирующим составом. Приписки U- и Youth будут располагаться в начале строки."
   ]
  },
  {
   "cell_type": "code",
   "execution_count": 18,
   "id": "7ab04b68-51d7-49b8-ba22-43705c27269f",
   "metadata": {},
   "outputs": [
    {
     "data": {
      "text/plain": [
       "array(['арсенал', 'гранит', 'динамо дубль', 'динамо минск', 'дняпро',\n",
       "       'дняпро д', 'луч', 'луч д', 'макслайн', 'мол сб беларуси',\n",
       "       'трактор'], dtype=object)"
      ]
     },
     "execution_count": 18,
     "metadata": {},
     "output_type": "execute_result"
    }
   ],
   "source": [
    "df['my_team'].str.lower().sort_values().unique()"
   ]
  },
  {
   "cell_type": "code",
   "execution_count": 19,
   "id": "13af3997-bb1c-4780-bfdf-d813f7035b5e",
   "metadata": {},
   "outputs": [
    {
     "data": {
      "text/plain": [
       "array(['арсенал дзержинск', 'барановичи', 'батэ', 'батэ дубль', 'бгу',\n",
       "       'белшина', 'белшина дубль', 'брабранд дания', 'брест дубль',\n",
       "       'бумпром гомель', 'бунёдкор(ташкент)', 'бфсо динамо',\n",
       "       'вертикаль калинковичи', 'виктория марьина горка', 'витебск',\n",
       "       'витебск дубль', 'волна пинск', 'волынь(луцк)', 'голху ',\n",
       "       'голху гомель', 'гомель', 'гомель д', 'городея', 'городея д',\n",
       "       'городея дубль', 'гранит', 'гранит дубль', 'динамо брест',\n",
       "       'динамо брест д', 'динамо минск', 'динамо минск д',\n",
       "       'динамо минск дубль', 'днепр могилев', 'дордой(бишкек)', 'жлобин',\n",
       "       'жодино дубль', 'жодино-южное', 'звезда бгу', 'иртыш(казахстан)',\n",
       "       'ислочь', 'ислочь дубль', 'колос', 'крумкачи', 'крумкачы',\n",
       "       'крумкачы дубль', 'крылья советов мол(россия)', 'лида',\n",
       "       'локо гомель', 'локомотив', 'локомотив тбилиси', 'луч минск',\n",
       "       'минск', 'минск ', 'минск u-19', 'минск д', 'минск дубль',\n",
       "       'мнпз мозырь', 'мол сб беларуси ', 'мол сб латвии',\n",
       "       'мол сб россии', 'молодечно', 'монтажник мозырь', 'нафтан',\n",
       "       'нафтан дубль', 'неман', 'неман агро', 'неман дубль',\n",
       "       'неман столбцы', 'нпз мозырь', 'орша', 'осиповичи', 'островец',\n",
       "       'ошмяны', 'паневежис(литва)', 'полоцк', 'рубин мол', 'рух брест',\n",
       "       'рух(украина)', 'сб беларуси u-17', 'светлогорск', 'серебрянка',\n",
       "       'славия мозырь', 'славия мозырь дубль', 'слоним', 'слуцк дубль',\n",
       "       'смена гродно', 'смолевичи', 'сморгонь', 'спутник речица',\n",
       "       'стэнлес', 'текстильщик(россия)', 'торпедо', 'торпедо минск',\n",
       "       'тракай(литва)', 'урожайная', 'фк минск', 'фк слуцк',\n",
       "       'фридек-мистек(чехия)', 'химик светлогорск', 'шахтер дубль',\n",
       "       'шахтер петриков', 'шахтер солигорск', 'энергетик-бгату',\n",
       "       'энергетик-бгу', 'энергетик-бгу д', 'юас житковичи', 'юни',\n",
       "       'ягелония польша'], dtype=object)"
      ]
     },
     "execution_count": 19,
     "metadata": {},
     "output_type": "execute_result"
    }
   ],
   "source": [
    "df['opponent'].str.lower().sort_values().unique()"
   ]
  },
  {
   "cell_type": "code",
   "execution_count": 20,
   "id": "dda63136-9e91-485f-be42-f757239d908d",
   "metadata": {},
   "outputs": [],
   "source": [
    "team_translation = {\n",
    "    'арсенал': 'Arsenal Dzerzhinsk', 'гранит': 'Granit Mikashevichi', 'динамо дубль': 'Dinamo Minsk (res)', 'динамо минск': 'Dinamo Minsk', \n",
    "    'дняпро': 'Dnipro Mogilev','дняпро д': 'Dnipro Mogilev (res)','луч': 'Luch Minsk','луч д': 'Luch Minsk (res)','макслайн': 'Maxline Rogachev',\n",
    "    'мол сб беларуси': 'U-21 Belarus', 'трактор': 'Traktor Minsk',\n",
    "    'арсенал дзержинск': 'Arsenal Dzerzhinsk', 'барановичи': 'Baranovichi', 'батэ': 'BATE Borisov', 'батэ дубль': 'BATE Borisov (res)', \n",
    "    'бгу': 'BSU Minsk', 'белшина': 'Belshina Bobruisk', 'белшина дубль': 'Belshina Bobruisk (res)', 'брабранд дания': 'Brabrand Aarhus (Denmark)', \n",
    "    'брест дубль': 'Dinamo Brest (res)', 'бумпром гомель': 'Bumprom Gomel', 'бунёдкор(ташкент)': 'Bunyodkor Tashkent (Uzbekistan)', \n",
    "    'бфсо динамо': 'BFSO Dinamo Minsk', 'вертикаль калинковичи': 'Vertikal Kalinkovichi', 'виктория марьина горка': 'Viktoria Maryina-Gorka', \n",
    "    'витебск': 'Vitebsk', 'витебск дубль': 'Vitebsk (res)', 'волна пинск': 'Volna Pinsk', 'волынь(луцк)': 'Volyn Lutsk (Ukraine)',\n",
    "    'голху ': 'GOLHU Gomel', 'голху': 'GOLHU Gomel', 'голху гомель': 'GOLHU Gomel', 'гомель': 'Gomel', 'гомель д': 'Gomel (res)',\n",
    "    'городея': 'Gorodeya', 'городея д': 'Gorodeya (res)', 'городея дубль': 'Gorodeya (res)', 'гранит дубль': 'Granit Mikashevichi (res)', \n",
    "    'динамо брест': 'Dinamo Brest', 'динамо брест д': 'Dinamo Brest (res)', 'динамо минск д': 'Dinamo Minsk (res)',\n",
    "    'динамо минск дубль': 'Dinamo Minsk (res)', 'днепр могилев': 'Dnepr Mogilev', 'дордой(бишкек)': 'Dordoi Bishkek (Kyrgyzstan)',\n",
    "    'жлобин': 'Zhlobin', 'жодино дубль': 'Torpedo Zhodino (res)', 'жодино-южное': 'Zh-Y Zhodino', 'звезда бгу': 'Zvezda-BSU Minsk',\n",
    "    'иртыш(казахстан)': 'Irtysh Pavlodar (Kazakhstan)', 'ислочь': 'Isloch Minsk', 'ислочь дубль': 'Isloch Minsk (res)', 'колос': 'Kolos Cherven',\n",
    "    'крумкачи': 'Krumkachy Minsk', 'крумкачы': 'Krumkachy Minsk', 'крумкачы дубль': 'Krumkachy Minsk (res)', \n",
    "    'крылья советов мол(россия)': 'Youth Krylya Sovetov Samara (Russia)', 'лида': 'Lida', 'локо гомель': 'Lokomotiv Gomel', \n",
    "    'локомотив': 'Lokomotiv Gomel', 'локомотив тбилиси': 'Lokomotiv Tbilisi (Georgia)', 'луч минск': 'Luch Minsk', 'минск': 'Minsk', \n",
    "    'минск ': 'Minsk', 'минск u-19': 'U-19 Minsk', 'минск д': 'Minsk (res)', 'минск дубль': 'Minsk (res)', \n",
    "    'мнпз мозырь': 'MNPS Mozyr', 'мол сб беларуси': 'U-21 Belarus', 'мол сб латвии': 'U-21 Latvia', 'мол сб беларуси ':'U-21 Belarus',\n",
    "    'мол сб россии': 'U-21 Russia', 'молодечно': 'Molodechno', 'монтажник мозырь': 'Montazhnik Mozyr', \n",
    "    'нафтан': 'Naftan Novopolotsk', 'нафтан дубль': 'Naftan Novopolotsk (res)', 'неман': 'Neman Grodno', 'неман агро': 'Neman Stolbtsy', \n",
    "    'неман дубль': 'Neman Grodno (res)', 'неман столбцы': 'Neman Stolbtsy', 'нпз мозырь': 'MNPS Mozyr', 'орша': 'Orsha', \n",
    "    'осиповичи': 'Osipovichi', 'островец': 'Ostrovets', 'ошмяны': 'Oshmyany', 'паневежис(литва)': 'Panevezys (Lithuania)', \n",
    "    'полоцк': 'Polotsk', 'рубин мол': 'U-21 Rubin Kazan (Russia)', 'рух брест': 'Rukh Brest', 'рух(украина)': 'Rukh Lviv (Ukraine)', \n",
    "    'сб беларуси u-17': 'U-17 Belarus', 'светлогорск': 'Khimik Svetlogorsk', 'серебрянка': 'Serebryanka Minsk', 'славия мозырь': 'Slavia Mozyr', \n",
    "    'славия мозырь дубль': 'Slavia Mozyr (res)', 'слоним': 'Slonim', 'слуцк дубль': 'Slutsk (res)', \n",
    "    'смена гродно': 'Smena Grodno', 'смолевичи': 'Smolevichi', 'сморгонь': 'Smorgon', 'спутник речица': 'Sputnik Rechitsa', \n",
    "    'стэнлес': 'Stanles Pinsk', 'текстильщик(россия)': 'Tekstilschik Ivanovo (Russia)', 'торпедо': 'Torpedo Zhodino', 'торпедо минск': 'Torpedo Minsk', \n",
    "    'тракай(литва)': 'Trakai (Lithuania)', 'урожайная': 'Urozhaynaya Minsk', 'фк минск': 'Minsk', 'фк слуцк': 'Slutsk', \n",
    "    'фридек-мистек(чехия)': 'Frydek-Mistek (Czechia)', 'химик светлогорск': 'Khimik Svetlogorsk', 'шахтер дубль': 'Shakhtyor Soligorsk (res)', \n",
    "    'шахтер петриков': 'Shakhtyor Petrikov', 'шахтер солигорск': 'Shakhtyor Soligorsk', 'энергетик-бгату': 'Energetik-BGATU Minsk', \n",
    "    'энергетик-бгу': 'Zvezda-BSU Minsk', 'энергетик-бгу д': 'Zvezda-BSU Minsk (res)', 'юас житковичи': 'YAS Zhitkovichi', \n",
    "    'юни': 'Uni Minsk', 'ягелония польша': 'Jagiellonia Bialystok (Poland)'\n",
    "}"
   ]
  },
  {
   "cell_type": "code",
   "execution_count": 21,
   "id": "d1df48e6-5b82-4efc-87f0-f75e6c98bb1f",
   "metadata": {},
   "outputs": [
    {
     "name": "stdout",
     "output_type": "stream",
     "text": [
      "['Arsenal Dzerzhinsk' 'Dinamo Minsk' 'Dinamo Minsk (res)' 'Dnipro Mogilev'\n",
      " 'Dnipro Mogilev (res)' 'Granit Mikashevichi' 'Luch Minsk'\n",
      " 'Luch Minsk (res)' 'Maxline Rogachev' 'Traktor Minsk' 'U-21 Belarus']\n"
     ]
    },
    {
     "data": {
      "text/plain": [
       "array(['Arsenal Dzerzhinsk', 'BATE Borisov', 'BATE Borisov (res)',\n",
       "       'BFSO Dinamo Minsk', 'BSU Minsk', 'Baranovichi',\n",
       "       'Belshina Bobruisk', 'Belshina Bobruisk (res)',\n",
       "       'Brabrand Aarhus (Denmark)', 'Bumprom Gomel',\n",
       "       'Bunyodkor Tashkent (Uzbekistan)', 'Dinamo Brest',\n",
       "       'Dinamo Brest (res)', 'Dinamo Minsk', 'Dinamo Minsk (res)',\n",
       "       'Dnepr Mogilev', 'Dordoi Bishkek (Kyrgyzstan)',\n",
       "       'Energetik-BGATU Minsk', 'Frydek-Mistek (Czechia)', 'GOLHU Gomel',\n",
       "       'Gomel', 'Gomel (res)', 'Gorodeya', 'Gorodeya (res)',\n",
       "       'Granit Mikashevichi', 'Granit Mikashevichi (res)',\n",
       "       'Irtysh Pavlodar (Kazakhstan)', 'Isloch Minsk',\n",
       "       'Isloch Minsk (res)', 'Jagiellonia Bialystok (Poland)',\n",
       "       'Khimik Svetlogorsk', 'Kolos Cherven', 'Krumkachy Minsk',\n",
       "       'Krumkachy Minsk (res)', 'Lida', 'Lokomotiv Gomel',\n",
       "       'Lokomotiv Tbilisi (Georgia)', 'Luch Minsk', 'MNPS Mozyr', 'Minsk',\n",
       "       'Minsk (res)', 'Molodechno', 'Montazhnik Mozyr',\n",
       "       'Naftan Novopolotsk', 'Naftan Novopolotsk (res)', 'Neman Grodno',\n",
       "       'Neman Grodno (res)', 'Neman Stolbtsy', 'Orsha', 'Oshmyany',\n",
       "       'Osipovichi', 'Ostrovets', 'Panevezys (Lithuania)', 'Polotsk',\n",
       "       'Rukh Brest', 'Rukh Lviv (Ukraine)', 'Serebryanka Minsk',\n",
       "       'Shakhtyor Petrikov', 'Shakhtyor Soligorsk',\n",
       "       'Shakhtyor Soligorsk (res)', 'Slavia Mozyr', 'Slavia Mozyr (res)',\n",
       "       'Slonim', 'Slutsk', 'Slutsk (res)', 'Smena Grodno', 'Smolevichi',\n",
       "       'Smorgon', 'Sputnik Rechitsa', 'Stanles Pinsk',\n",
       "       'Tekstilschik Ivanovo (Russia)', 'Torpedo Minsk',\n",
       "       'Torpedo Zhodino', 'Torpedo Zhodino (res)', 'Trakai (Lithuania)',\n",
       "       'U-17 Belarus', 'U-19 Minsk', 'U-21 Belarus', 'U-21 Latvia',\n",
       "       'U-21 Rubin Kazan (Russia)', 'U-21 Russia', 'Uni Minsk',\n",
       "       'Urozhaynaya Minsk', 'Vertikal Kalinkovichi',\n",
       "       'Viktoria Maryina-Gorka', 'Vitebsk', 'Vitebsk (res)',\n",
       "       'Volna Pinsk', 'Volyn Lutsk (Ukraine)', 'YAS Zhitkovichi',\n",
       "       'Youth Krylya Sovetov Samara (Russia)', 'Zh-Y Zhodino', 'Zhlobin',\n",
       "       'Zvezda-BSU Minsk', 'Zvezda-BSU Minsk (res)'], dtype=object)"
      ]
     },
     "execution_count": 21,
     "metadata": {},
     "output_type": "execute_result"
    }
   ],
   "source": [
    "df['my_team'] = df['my_team'].str.lower().replace(team_translation)\n",
    "df['opponent'] = df['opponent'].str.lower().replace(team_translation)\n",
    "print(df['my_team'].sort_values().unique())\n",
    "df['opponent'].sort_values().unique()"
   ]
  },
  {
   "cell_type": "markdown",
   "id": "16fe496d-390e-47a1-99ae-8b61b66c9818",
   "metadata": {},
   "source": [
    "**Место проведения матча**\n",
    "\n",
    "В этой колонке хранится место проведения встречи. В некоторых записях указаны только названия городов  - в таких случаях подразумевается, что это основной стадион в городе, в этих записях может быть разный тип покрытия в соответствующей колонке: натуральное или искусственное. Если игра проходит на другом стадионе, после названия города добавляется описание этого стадиона. Для того чтобы можно было выделить город в отдельную колонку, необходимо переименовать значения, чтобы город всегда был указан первым словом."
   ]
  },
  {
   "cell_type": "code",
   "execution_count": 22,
   "id": "372ee66f-9619-4d0d-b860-2c928daae35c",
   "metadata": {},
   "outputs": [
    {
     "data": {
      "text/plain": [
       "array(['атлант новополоцк', 'барановичи исск', 'барановичи нат',\n",
       "       'белек(турция)', 'бобруйск', 'бобруйск нат', 'бобруйск прокопенко',\n",
       "       'борисов арена нат', 'борисов городской', 'брест нат',\n",
       "       'брест савушкин', 'бцоцор брест', 'веста', 'витебск нат',\n",
       "       'гомель база', 'гомель локо нат', 'гомель манеж', 'городея нат',\n",
       "       'гродно исск', 'гродно манеж', 'динамо-юни', 'жлобин',\n",
       "       'жодино исск', 'жодино торпедо', 'кфп минск', 'лида нат',\n",
       "       'литва вильнюс', 'лунинец', 'марьина горка', 'маяковка',\n",
       "       'минск победителей', 'могилев', 'могилев нат', 'мозырь ',\n",
       "       'мозырь нат', 'молодечно нат', 'несвиж', 'огонек', 'озерный нат',\n",
       "       'озерный смолевичи', 'октябрьский смолевичский р-н', 'орша нат',\n",
       "       'осиповичи', 'осиповичи нат', 'островец', 'ошмяны', 'петриков',\n",
       "       'пинск исск', 'пинск нат', 'пинск фут манеж', 'плиса смолевичи',\n",
       "       'полесье мозырь', 'полоцк нат', 'рога нат', 'рогачев',\n",
       "       'россия москва нат', 'рцоп-бгу', 'светлогорск нат', 'семашко',\n",
       "       'ск шахтер солигорск', 'слоним нат', 'слуцк исск', 'слуцк нат',\n",
       "       'сморгонь', 'сморгонь исск', 'сморгонь нат', 'сок', 'сок ',\n",
       "       'сок нат', 'стадион торпедо минск', 'стайки', 'столбцы исск',\n",
       "       'тихиничи', 'торпедо жодино', 'трактор минск', 'турция сборы',\n",
       "       'фк минск победителей ', 'фк минск победителей иск',\n",
       "       'фк минск победителей нат', 'фут манеж минск', 'червень', 'юни'],\n",
       "      dtype=object)"
      ]
     },
     "execution_count": 22,
     "metadata": {},
     "output_type": "execute_result"
    }
   ],
   "source": [
    "df['stadium'].str.lower().sort_values().unique()"
   ]
  },
  {
   "cell_type": "code",
   "execution_count": 23,
   "id": "6c74a376-d0a2-4644-ac7e-498d1eda53b8",
   "metadata": {},
   "outputs": [],
   "source": [
    "stadium_translation = {\n",
    "    'атлант новополоцк': 'Novopolotsk', 'барановичи исск': 'Baranovichi', 'барановичи нат': 'Baranovichi', \n",
    "    'белек(турция)': 'Belek (Turkey)', 'бобруйск': 'Bobruisk', 'бобруйск нат': 'Bobruisk', 'бобруйск прокопенко': 'Bobruisk', \n",
    "    'борисов арена нат': 'Borisov Arena', 'борисов городской': 'Borisov City Stadium', 'брест нат': 'Brest', \n",
    "    'брест савушкин': 'Brest', 'бцоцор брест': 'Brest BCOR', 'веста': 'Dzerzhinsk Vesta', 'витебск нат': 'Vitebsk', \n",
    "    'гомель база': 'Gomel Base', 'гомель локо нат': 'Gomel Lokomotiv', 'гомель манеж': 'Gomel Indoor', 'городея нат': 'Gorodeya', \n",
    "    'гродно исск': 'Grodno', 'гродно манеж': 'Grodno Indoor', 'динамо-юни': 'Minsk Dinamo-Uni', 'жлобин': 'Zhlobin', \n",
    "    'жодино исск': 'Zhodino', 'жодино торпедо': 'Zhodino', 'кфп минск': 'Minsk Pobeditelei', 'лида нат': 'Lida', \n",
    "    'литва вильнюс': 'Vilnius (Lithuania)', 'лунинец': 'Luninets', 'марьина горка': 'Maryina-Gorka', 'маяковка': 'Minsk Mayakovskogo', \n",
    "    'минск победителей': 'Minsk Pobeditelei', 'могилев': 'Mogilev', 'могилев нат': 'Mogilev', 'мозырь': 'Mozyr', 'мозырь ': 'Mozyr',\n",
    "    'мозырь нат': 'Mozyr', 'молодечно нат': 'Molodechno', 'несвиж': 'Nesvizh', 'огонек': 'Smolevichi Ogonek', \n",
    "    'озерный нат': 'Smolevichi Ozerny', 'озерный смолевичи': 'Smolevichi Ozerny', 'октябрьский смолевичский р-н': 'Smolevichi Oktyabrsky', \n",
    "    'орша нат': 'Orsha', 'осиповичи': 'Osipovichi', 'осиповичи нат': 'Osipovichi', 'островец': 'Ostrovets', \n",
    "    'ошмяны': 'Oshmyany', 'петриков': 'Petrikov', 'пинск исск': 'Pinsk', 'пинск нат': 'Pinsk', \n",
    "    'пинск фут манеж': 'Pinsk Indoor', 'плиса смолевичи': 'Smolevichi Oktyabrsky', 'полесье мозырь': 'Mozyr', \n",
    "    'полоцк нат': 'Polotsk', 'рога нат': 'Rogachev', 'рогачев': 'Rogachev', 'россия москва нат': 'Moscow (Russia)', \n",
    "    'рцоп-бгу': 'Minsk Semashko', 'светлогорск нат': 'Svetlogorsk', 'семашко': 'Minsk Semashko', 'ск шахтер солигорск': 'Soligorsk', \n",
    "    'слоним нат': 'Slonim', 'слуцк исск': 'Slutsk', 'слуцк нат': 'Slutsk', 'сморгонь': 'Smorgon', \n",
    "    'сморгонь исск': 'Smorgon', 'сморгонь нат': 'Smorgon', 'сок': 'Minsk SOK', 'сок нат': 'Minsk SOK', 'сок ':'Minsk SOK',\n",
    "    'стадион торпедо минск': 'Minsk Torpedo', 'стайки': 'Staiki', 'столбцы исск': 'Stolbtsy', 'тихиничи': 'Tikhinichi', \n",
    "    'торпедо жодино': 'Zhodino', 'трактор минск': 'Minsk Traktor', 'турция сборы': 'Belek (Turkey)', \n",
    "    'фк минск победителей': 'Minsk Pobeditelei', 'фк минск победителей иск': 'Minsk Pobeditelei', 'фк минск победителей ': 'Minsk Pobeditelei',\n",
    "    'фк минск победителей нат': 'Minsk Pobeditelei', 'фут манеж минск': 'Minsk Pobeditelei Indoor', 'червень': 'Cherven', \n",
    "    'юни': 'Minsk Dinamo-Uni'\n",
    "}"
   ]
  },
  {
   "cell_type": "code",
   "execution_count": 24,
   "id": "a97f642a-7937-4012-9b78-f09012238a95",
   "metadata": {},
   "outputs": [
    {
     "data": {
      "text/plain": [
       "array(['Baranovichi', 'Belek (Turkey)', 'Bobruisk', 'Borisov Arena',\n",
       "       'Borisov City Stadium', 'Brest', 'Brest BCOR', 'Cherven',\n",
       "       'Dzerzhinsk Vesta', 'Gomel Base', 'Gomel Indoor',\n",
       "       'Gomel Lokomotiv', 'Gorodeya', 'Grodno', 'Grodno Indoor', 'Lida',\n",
       "       'Luninets', 'Maryina-Gorka', 'Minsk Dinamo-Uni',\n",
       "       'Minsk Mayakovskogo', 'Minsk Pobeditelei',\n",
       "       'Minsk Pobeditelei Indoor', 'Minsk SOK', 'Minsk Semashko',\n",
       "       'Minsk Torpedo', 'Minsk Traktor', 'Mogilev', 'Molodechno',\n",
       "       'Moscow (Russia)', 'Mozyr', 'Nesvizh', 'Novopolotsk', 'Orsha',\n",
       "       'Oshmyany', 'Osipovichi', 'Ostrovets', 'Petrikov', 'Pinsk',\n",
       "       'Pinsk Indoor', 'Polotsk', 'Rogachev', 'Slonim', 'Slutsk',\n",
       "       'Smolevichi Ogonek', 'Smolevichi Oktyabrsky', 'Smolevichi Ozerny',\n",
       "       'Smorgon', 'Soligorsk', 'Staiki', 'Stolbtsy', 'Svetlogorsk',\n",
       "       'Tikhinichi', 'Vilnius (Lithuania)', 'Vitebsk', 'Zhlobin',\n",
       "       'Zhodino'], dtype=object)"
      ]
     },
     "execution_count": 24,
     "metadata": {},
     "output_type": "execute_result"
    }
   ],
   "source": [
    "df['stadium'] = df['stadium'].str.lower().replace(stadium_translation)\n",
    "df['stadium'].sort_values().unique()"
   ]
  },
  {
   "cell_type": "markdown",
   "id": "209f0b46-d9bf-4994-86d0-b4241cd7708d",
   "metadata": {},
   "source": [
    "### Добавление новых колонок на основе имеющихся\n",
    "\n",
    "**Колонка с результатом матча (result)**\n",
    "- W - win, победа команды\n",
    "- L - lose, поражение\n",
    "- D - draw, ничья\n",
    "\n",
    "В случае, если значение в колонке team_goals больше, чем значение в колонке opponent_goals, то значение в столбце result будет W (победа), при равенстве - D (ничья), в остальных случаях - L (поражение). Напишем функцию, вычисляющую значение для result:"
   ]
  },
  {
   "cell_type": "code",
   "execution_count": 25,
   "id": "eddabc9f-c949-4a16-802d-7ffa7b7fc557",
   "metadata": {},
   "outputs": [],
   "source": [
    "def result(data):\n",
    "    if data['team_goals'] > data['opponent_goals']:\n",
    "        return 'W'\n",
    "    if data['team_goals'] < data['opponent_goals']:\n",
    "        return 'L'\n",
    "    else:\n",
    "        return 'D'"
   ]
  },
  {
   "cell_type": "code",
   "execution_count": 26,
   "id": "e1444633-a16b-49d2-89e3-857483fe0229",
   "metadata": {},
   "outputs": [],
   "source": [
    "df.insert(5, 'result', df.apply(result, axis=1))"
   ]
  },
  {
   "cell_type": "markdown",
   "id": "120eeb06-b809-4b6d-9943-671a81f959a0",
   "metadata": {},
   "source": [
    "**Город проведения встречи (city_stadium)**\n",
    "\n",
    "Извлечем город из колонки stadium в отдельную колонку city_stadium:"
   ]
  },
  {
   "cell_type": "code",
   "execution_count": 27,
   "id": "3f51141f-6892-4a3b-a9db-c2f269e2e943",
   "metadata": {},
   "outputs": [
    {
     "data": {
      "text/html": [
       "<div>\n",
       "<style scoped>\n",
       "    .dataframe tbody tr th:only-of-type {\n",
       "        vertical-align: middle;\n",
       "    }\n",
       "\n",
       "    .dataframe tbody tr th {\n",
       "        vertical-align: top;\n",
       "    }\n",
       "\n",
       "    .dataframe thead th {\n",
       "        text-align: right;\n",
       "    }\n",
       "</style>\n",
       "<table border=\"1\" class=\"dataframe\">\n",
       "  <thead>\n",
       "    <tr style=\"text-align: right;\">\n",
       "      <th></th>\n",
       "      <th>date</th>\n",
       "      <th>my_team</th>\n",
       "      <th>team_goals</th>\n",
       "      <th>opponent_goals</th>\n",
       "      <th>opponent</th>\n",
       "      <th>result</th>\n",
       "      <th>stadium</th>\n",
       "      <th>city_stadium</th>\n",
       "      <th>surface_type</th>\n",
       "      <th>home_away</th>\n",
       "      <th>tournament</th>\n",
       "      <th>minutes_played</th>\n",
       "      <th>position</th>\n",
       "      <th>goal_assist</th>\n",
       "      <th>card</th>\n",
       "    </tr>\n",
       "  </thead>\n",
       "  <tbody>\n",
       "    <tr>\n",
       "      <th>119</th>\n",
       "      <td>2019-01-25</td>\n",
       "      <td>Luch Minsk</td>\n",
       "      <td>2</td>\n",
       "      <td>0</td>\n",
       "      <td>Neman Grodno</td>\n",
       "      <td>W</td>\n",
       "      <td>Grodno Indoor</td>\n",
       "      <td>Grodno</td>\n",
       "      <td>artificial</td>\n",
       "      <td>away</td>\n",
       "      <td>friendly</td>\n",
       "      <td>76</td>\n",
       "      <td>DM</td>\n",
       "      <td>0</td>\n",
       "      <td>0</td>\n",
       "    </tr>\n",
       "    <tr>\n",
       "      <th>110</th>\n",
       "      <td>2018-08-08</td>\n",
       "      <td>Luch Minsk</td>\n",
       "      <td>1</td>\n",
       "      <td>2</td>\n",
       "      <td>Isloch Minsk</td>\n",
       "      <td>L</td>\n",
       "      <td>Minsk Pobeditelei</td>\n",
       "      <td>Minsk</td>\n",
       "      <td>natural</td>\n",
       "      <td>home</td>\n",
       "      <td>friendly</td>\n",
       "      <td>45</td>\n",
       "      <td>DM</td>\n",
       "      <td>0</td>\n",
       "      <td>0</td>\n",
       "    </tr>\n",
       "    <tr>\n",
       "      <th>32</th>\n",
       "      <td>2016-10-14</td>\n",
       "      <td>Dinamo Minsk (res)</td>\n",
       "      <td>3</td>\n",
       "      <td>0</td>\n",
       "      <td>Dinamo Brest (res)</td>\n",
       "      <td>W</td>\n",
       "      <td>Staiki</td>\n",
       "      <td>Staiki</td>\n",
       "      <td>natural</td>\n",
       "      <td>home</td>\n",
       "      <td>reserve</td>\n",
       "      <td>90</td>\n",
       "      <td>RCB</td>\n",
       "      <td>0</td>\n",
       "      <td>YC</td>\n",
       "    </tr>\n",
       "    <tr>\n",
       "      <th>209</th>\n",
       "      <td>2022-10-22</td>\n",
       "      <td>Maxline Rogachev</td>\n",
       "      <td>3</td>\n",
       "      <td>1</td>\n",
       "      <td>Smorgon</td>\n",
       "      <td>W</td>\n",
       "      <td>Rogachev</td>\n",
       "      <td>Rogachev</td>\n",
       "      <td>natural</td>\n",
       "      <td>home</td>\n",
       "      <td>first</td>\n",
       "      <td>10</td>\n",
       "      <td>DM</td>\n",
       "      <td>0</td>\n",
       "      <td>0</td>\n",
       "    </tr>\n",
       "    <tr>\n",
       "      <th>187</th>\n",
       "      <td>2022-04-16</td>\n",
       "      <td>Maxline Rogachev</td>\n",
       "      <td>1</td>\n",
       "      <td>0</td>\n",
       "      <td>Slonim</td>\n",
       "      <td>W</td>\n",
       "      <td>Slonim</td>\n",
       "      <td>Slonim</td>\n",
       "      <td>natural</td>\n",
       "      <td>away</td>\n",
       "      <td>first</td>\n",
       "      <td>90</td>\n",
       "      <td>CB</td>\n",
       "      <td>0</td>\n",
       "      <td>0</td>\n",
       "    </tr>\n",
       "  </tbody>\n",
       "</table>\n",
       "</div>"
      ],
      "text/plain": [
       "          date             my_team  team_goals  opponent_goals  \\\n",
       "119 2019-01-25          Luch Minsk           2               0   \n",
       "110 2018-08-08          Luch Minsk           1               2   \n",
       "32  2016-10-14  Dinamo Minsk (res)           3               0   \n",
       "209 2022-10-22    Maxline Rogachev           3               1   \n",
       "187 2022-04-16    Maxline Rogachev           1               0   \n",
       "\n",
       "               opponent result            stadium city_stadium surface_type  \\\n",
       "119        Neman Grodno      W      Grodno Indoor       Grodno   artificial   \n",
       "110        Isloch Minsk      L  Minsk Pobeditelei        Minsk      natural   \n",
       "32   Dinamo Brest (res)      W             Staiki       Staiki      natural   \n",
       "209             Smorgon      W           Rogachev     Rogachev      natural   \n",
       "187              Slonim      W             Slonim       Slonim      natural   \n",
       "\n",
       "    home_away tournament  minutes_played position goal_assist card  \n",
       "119      away   friendly              76       DM           0    0  \n",
       "110      home   friendly              45       DM           0    0  \n",
       "32       home    reserve              90      RCB           0   YC  \n",
       "209      home      first              10       DM           0    0  \n",
       "187      away      first              90       CB           0    0  "
      ]
     },
     "execution_count": 27,
     "metadata": {},
     "output_type": "execute_result"
    }
   ],
   "source": [
    "df.insert(7, 'city_stadium', df['stadium'].str.split().str[0])\n",
    "df.sample(5)"
   ]
  },
  {
   "cell_type": "markdown",
   "id": "9681d6c2-4f8c-4e7d-81ed-77d171bf69e7",
   "metadata": {},
   "source": [
    "**Город, к которому относится команда противника (city_opponent)**\n",
    "\n",
    "Извлечем из названия соперника город:"
   ]
  },
  {
   "cell_type": "code",
   "execution_count": 28,
   "id": "16b4a05d-0578-4436-b6cd-e227f562bea1",
   "metadata": {},
   "outputs": [],
   "source": [
    "def spl(opponent_series):\n",
    "    def get_city(opponent):\n",
    "        words = opponent.split()\n",
    "        if words[-1] == '(res)':\n",
    "            return words[-2]\n",
    "        else:\n",
    "            return words[-1]\n",
    "    return opponent_series.apply(get_city)"
   ]
  },
  {
   "cell_type": "code",
   "execution_count": 29,
   "id": "7163a9e2-f095-452c-befd-144beb5c806a",
   "metadata": {},
   "outputs": [
    {
     "data": {
      "text/html": [
       "<div>\n",
       "<style scoped>\n",
       "    .dataframe tbody tr th:only-of-type {\n",
       "        vertical-align: middle;\n",
       "    }\n",
       "\n",
       "    .dataframe tbody tr th {\n",
       "        vertical-align: top;\n",
       "    }\n",
       "\n",
       "    .dataframe thead th {\n",
       "        text-align: right;\n",
       "    }\n",
       "</style>\n",
       "<table border=\"1\" class=\"dataframe\">\n",
       "  <thead>\n",
       "    <tr style=\"text-align: right;\">\n",
       "      <th></th>\n",
       "      <th>date</th>\n",
       "      <th>my_team</th>\n",
       "      <th>team_goals</th>\n",
       "      <th>opponent_goals</th>\n",
       "      <th>opponent</th>\n",
       "      <th>city_opponent</th>\n",
       "      <th>result</th>\n",
       "      <th>stadium</th>\n",
       "      <th>city_stadium</th>\n",
       "      <th>surface_type</th>\n",
       "      <th>home_away</th>\n",
       "      <th>tournament</th>\n",
       "      <th>minutes_played</th>\n",
       "      <th>position</th>\n",
       "      <th>goal_assist</th>\n",
       "      <th>card</th>\n",
       "    </tr>\n",
       "  </thead>\n",
       "  <tbody>\n",
       "    <tr>\n",
       "      <th>197</th>\n",
       "      <td>2022-07-06</td>\n",
       "      <td>Maxline Rogachev</td>\n",
       "      <td>1</td>\n",
       "      <td>3</td>\n",
       "      <td>Dinamo Minsk (res)</td>\n",
       "      <td>Minsk</td>\n",
       "      <td>L</td>\n",
       "      <td>Smolevichi Ozerny</td>\n",
       "      <td>Smolevichi</td>\n",
       "      <td>artificial</td>\n",
       "      <td>home</td>\n",
       "      <td>friendly</td>\n",
       "      <td>45</td>\n",
       "      <td>DM</td>\n",
       "      <td>0</td>\n",
       "      <td>0</td>\n",
       "    </tr>\n",
       "    <tr>\n",
       "      <th>203</th>\n",
       "      <td>2022-08-28</td>\n",
       "      <td>Maxline Rogachev</td>\n",
       "      <td>1</td>\n",
       "      <td>2</td>\n",
       "      <td>Lokomotiv Gomel</td>\n",
       "      <td>Gomel</td>\n",
       "      <td>L</td>\n",
       "      <td>Gomel Lokomotiv</td>\n",
       "      <td>Gomel</td>\n",
       "      <td>natural</td>\n",
       "      <td>away</td>\n",
       "      <td>first</td>\n",
       "      <td>26</td>\n",
       "      <td>DM</td>\n",
       "      <td>0</td>\n",
       "      <td>0</td>\n",
       "    </tr>\n",
       "    <tr>\n",
       "      <th>88</th>\n",
       "      <td>2018-02-17</td>\n",
       "      <td>Luch Minsk</td>\n",
       "      <td>1</td>\n",
       "      <td>1</td>\n",
       "      <td>Minsk</td>\n",
       "      <td>Minsk</td>\n",
       "      <td>D</td>\n",
       "      <td>Minsk Mayakovskogo</td>\n",
       "      <td>Minsk</td>\n",
       "      <td>artificial</td>\n",
       "      <td>away</td>\n",
       "      <td>friendly</td>\n",
       "      <td>17</td>\n",
       "      <td>DM</td>\n",
       "      <td>0</td>\n",
       "      <td>0</td>\n",
       "    </tr>\n",
       "    <tr>\n",
       "      <th>12</th>\n",
       "      <td>2016-05-07</td>\n",
       "      <td>Dinamo Minsk (res)</td>\n",
       "      <td>1</td>\n",
       "      <td>1</td>\n",
       "      <td>Naftan Novopolotsk (res)</td>\n",
       "      <td>Novopolotsk</td>\n",
       "      <td>D</td>\n",
       "      <td>Novopolotsk</td>\n",
       "      <td>Novopolotsk</td>\n",
       "      <td>artificial</td>\n",
       "      <td>away</td>\n",
       "      <td>reserve</td>\n",
       "      <td>85</td>\n",
       "      <td>CM</td>\n",
       "      <td>0</td>\n",
       "      <td>0</td>\n",
       "    </tr>\n",
       "    <tr>\n",
       "      <th>215</th>\n",
       "      <td>2023-03-15</td>\n",
       "      <td>Maxline Rogachev</td>\n",
       "      <td>4</td>\n",
       "      <td>3</td>\n",
       "      <td>Bumprom Gomel</td>\n",
       "      <td>Gomel</td>\n",
       "      <td>W</td>\n",
       "      <td>Tikhinichi</td>\n",
       "      <td>Tikhinichi</td>\n",
       "      <td>artificial</td>\n",
       "      <td>home</td>\n",
       "      <td>friendly</td>\n",
       "      <td>45</td>\n",
       "      <td>CB</td>\n",
       "      <td>0</td>\n",
       "      <td>0</td>\n",
       "    </tr>\n",
       "  </tbody>\n",
       "</table>\n",
       "</div>"
      ],
      "text/plain": [
       "          date             my_team  team_goals  opponent_goals  \\\n",
       "197 2022-07-06    Maxline Rogachev           1               3   \n",
       "203 2022-08-28    Maxline Rogachev           1               2   \n",
       "88  2018-02-17          Luch Minsk           1               1   \n",
       "12  2016-05-07  Dinamo Minsk (res)           1               1   \n",
       "215 2023-03-15    Maxline Rogachev           4               3   \n",
       "\n",
       "                     opponent city_opponent result             stadium  \\\n",
       "197        Dinamo Minsk (res)         Minsk      L   Smolevichi Ozerny   \n",
       "203           Lokomotiv Gomel         Gomel      L     Gomel Lokomotiv   \n",
       "88                      Minsk         Minsk      D  Minsk Mayakovskogo   \n",
       "12   Naftan Novopolotsk (res)   Novopolotsk      D         Novopolotsk   \n",
       "215             Bumprom Gomel         Gomel      W          Tikhinichi   \n",
       "\n",
       "    city_stadium surface_type home_away tournament  minutes_played position  \\\n",
       "197   Smolevichi   artificial      home   friendly              45       DM   \n",
       "203        Gomel      natural      away      first              26       DM   \n",
       "88         Minsk   artificial      away   friendly              17       DM   \n",
       "12   Novopolotsk   artificial      away    reserve              85       CM   \n",
       "215   Tikhinichi   artificial      home   friendly              45       CB   \n",
       "\n",
       "    goal_assist card  \n",
       "197           0    0  \n",
       "203           0    0  \n",
       "88            0    0  \n",
       "12            0    0  \n",
       "215           0    0  "
      ]
     },
     "metadata": {},
     "output_type": "display_data"
    },
    {
     "name": "stdout",
     "output_type": "stream",
     "text": [
      "<class 'pandas.core.frame.DataFrame'>\n",
      "RangeIndex: 231 entries, 0 to 230\n",
      "Data columns (total 16 columns):\n",
      " #   Column          Non-Null Count  Dtype         \n",
      "---  ------          --------------  -----         \n",
      " 0   date            231 non-null    datetime64[ns]\n",
      " 1   my_team         231 non-null    object        \n",
      " 2   team_goals      231 non-null    int64         \n",
      " 3   opponent_goals  231 non-null    int64         \n",
      " 4   opponent        231 non-null    object        \n",
      " 5   city_opponent   231 non-null    object        \n",
      " 6   result          231 non-null    object        \n",
      " 7   stadium         231 non-null    object        \n",
      " 8   city_stadium    231 non-null    object        \n",
      " 9   surface_type    231 non-null    object        \n",
      " 10  home_away       231 non-null    object        \n",
      " 11  tournament      231 non-null    object        \n",
      " 12  minutes_played  231 non-null    int64         \n",
      " 13  position        231 non-null    object        \n",
      " 14  goal_assist     231 non-null    object        \n",
      " 15  card            231 non-null    object        \n",
      "dtypes: datetime64[ns](1), int64(3), object(12)\n",
      "memory usage: 29.0+ KB\n"
     ]
    }
   ],
   "source": [
    "df.insert(5, 'city_opponent', spl(df['opponent']))\n",
    "display(df.sample(5))\n",
    "df.info()"
   ]
  },
  {
   "cell_type": "markdown",
   "id": "bdcec288-99ce-40a2-aa98-b33d8d72dcca",
   "metadata": {},
   "source": [
    "### Выводы по предобработке данных\n",
    "- Переименовал названия колонок в соответствии с правилами Snake Case на латинице.\n",
    "- Провел исследование дубликатов и пропущенных значений; таких не обнаружено.\n",
    "- Заменил значения в столбцах на латиницу и устранил неявные дубликаты названий команд, стадионов и турниров.\n",
    "- Добавил новые столбцы с результатом, городом проведения встречи и городом команды противника на основе имеющихся данных."
   ]
  },
  {
   "cell_type": "markdown",
   "id": "6e5e3f1b-0e84-4b94-951e-96688a070a74",
   "metadata": {},
   "source": [
    "## Исследовательский анализ данных"
   ]
  },
  {
   "cell_type": "code",
   "execution_count": null,
   "id": "34b6f768-d9f8-4882-90a3-7388d8dca8c7",
   "metadata": {},
   "outputs": [],
   "source": []
  }
 ],
 "metadata": {
  "kernelspec": {
   "display_name": "Python 3 (ipykernel)",
   "language": "python",
   "name": "python3"
  },
  "language_info": {
   "codemirror_mode": {
    "name": "ipython",
    "version": 3
   },
   "file_extension": ".py",
   "mimetype": "text/x-python",
   "name": "python",
   "nbconvert_exporter": "python",
   "pygments_lexer": "ipython3",
   "version": "3.12.4"
  },
  "toc": {
   "base_numbering": 1,
   "nav_menu": {},
   "number_sections": true,
   "sideBar": true,
   "skip_h1_title": true,
   "title_cell": "Table of Contents",
   "title_sidebar": "Contents",
   "toc_cell": false,
   "toc_position": {
    "height": "calc(100% - 180px)",
    "left": "10px",
    "top": "150px",
    "width": "384px"
   },
   "toc_section_display": true,
   "toc_window_display": true
  }
 },
 "nbformat": 4,
 "nbformat_minor": 5
}
